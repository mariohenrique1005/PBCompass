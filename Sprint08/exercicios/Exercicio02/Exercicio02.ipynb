{
  "nbformat": 4,
  "nbformat_minor": 0,
  "metadata": {
    "colab": {
      "provenance": []
    },
    "kernelspec": {
      "name": "python3",
      "display_name": "Python 3"
    },
    "language_info": {
      "name": "python"
    }
  },
  "cells": [
    {
      "cell_type": "code",
      "execution_count": null,
      "metadata": {
        "colab": {
          "base_uri": "https://localhost:8080/"
        },
        "id": "RbTfFqjmG00H",
        "outputId": "4bd87805-a997-4792-b13f-b7c403e433d4"
      },
      "outputs": [
        {
          "output_type": "stream",
          "name": "stdout",
          "text": [
            "Get:1 http://security.ubuntu.com/ubuntu jammy-security InRelease [129 kB]\n",
            "Hit:2 https://developer.download.nvidia.com/compute/cuda/repos/ubuntu2204/x86_64  InRelease\n",
            "Get:3 https://cloud.r-project.org/bin/linux/ubuntu jammy-cran40/ InRelease [3,626 B]\n",
            "Hit:4 http://archive.ubuntu.com/ubuntu jammy InRelease\n",
            "Get:5 https://r2u.stat.illinois.edu/ubuntu jammy InRelease [6,555 B]\n",
            "Get:6 http://archive.ubuntu.com/ubuntu jammy-updates InRelease [128 kB]\n",
            "Get:7 http://security.ubuntu.com/ubuntu jammy-security/universe amd64 Packages [1,228 kB]\n",
            "Get:8 http://security.ubuntu.com/ubuntu jammy-security/main amd64 Packages [2,561 kB]\n",
            "Get:9 http://archive.ubuntu.com/ubuntu jammy-backports InRelease [127 kB]\n",
            "Hit:10 https://ppa.launchpadcontent.net/deadsnakes/ppa/ubuntu jammy InRelease\n",
            "Get:11 https://r2u.stat.illinois.edu/ubuntu jammy/main amd64 Packages [2,646 kB]\n",
            "Hit:12 https://ppa.launchpadcontent.net/graphics-drivers/ppa/ubuntu jammy InRelease\n",
            "Hit:13 https://ppa.launchpadcontent.net/ubuntugis/ppa/ubuntu jammy InRelease\n",
            "Get:14 http://archive.ubuntu.com/ubuntu jammy-updates/main amd64 Packages [2,860 kB]\n",
            "Get:15 https://r2u.stat.illinois.edu/ubuntu jammy/main all Packages [8,615 kB]\n",
            "Get:16 http://archive.ubuntu.com/ubuntu jammy-updates/universe amd64 Packages [1,519 kB]\n",
            "Fetched 19.8 MB in 3s (6,131 kB/s)\n",
            "Reading package lists... Done\n",
            "W: Skipping acquire of configured file 'main/source/Sources' as repository 'https://r2u.stat.illinois.edu/ubuntu jammy InRelease' does not seem to provide it (sources.list entry misspelt?)\n"
          ]
        }
      ],
      "source": [
        "# instalar as dependências\n",
        "!apt-get update\n",
        "!apt-get install openjdk-11-jdk-headless -qq > /dev/null\n",
        "!wget -q https://archive.apache.org/dist/spark/spark-3.5.0/spark-3.5.0-bin-hadoop3.tgz\n",
        "!tar xf spark-3.5.0-bin-hadoop3.tgz\n",
        "!pip install -q findspark"
      ]
    },
    {
      "cell_type": "code",
      "source": [
        "import os\n",
        "os.environ[\"JAVA\"] = \"/usr/lib/jvm/java-11-openjdk-amd64\"\n",
        "os.environ[\"SPARK\"] = \"/content/spark-3.5.0-bin-hadoop3\""
      ],
      "metadata": {
        "id": "epKkLbZVHBPP"
      },
      "execution_count": null,
      "outputs": []
    },
    {
      "cell_type": "code",
      "source": [
        "# tornar o pyspark \"importável\"\n",
        "import findspark\n",
        "findspark.init('spark-3.5.0-bin-hadoop3')"
      ],
      "metadata": {
        "id": "ZhDxImtIOuKA"
      },
      "execution_count": null,
      "outputs": []
    },
    {
      "cell_type": "code",
      "source": [
        "# Etapa 1\n",
        "from pyspark.sql import SparkSession\n",
        "from pyspark import SparkContext, SQLContext\n",
        "from google.colab import files\n",
        "from google.colab import drive\n",
        "\n",
        "drive.mount('/content/drive')\n",
        "!ls \"/content/drive/My Drive/Colab_arquivos/\"\n",
        "file_path = '/content/drive/My Drive/Colab_arquivos/nomes_aleatorios.txt'\n",
        "\n",
        "spark = SparkSession \\\n",
        "    .builder \\\n",
        "    .master(\"local[*]\") \\\n",
        "    .appName(\"Exercicio Intro\") \\\n",
        "    .getOrCreate()\n"
      ],
      "metadata": {
        "colab": {
          "base_uri": "https://localhost:8080/"
        },
        "id": "D5l1sWp0PPRk",
        "outputId": "a0aa2a8e-0eee-432d-fe75-3e0a3573c4d8"
      },
      "execution_count": 5,
      "outputs": [
        {
          "output_type": "stream",
          "name": "stdout",
          "text": [
            "Mounted at /content/drive\n",
            "nomes_aleatorios.txt\n"
          ]
        }
      ]
    },
    {
      "cell_type": "code",
      "source": [
        "# Etapa 1\n",
        "df_nomes=spark.read.csv(path=file_path,header=False,inferSchema=True)\n",
        "df_nomes.show(10)"
      ],
      "metadata": {
        "colab": {
          "base_uri": "https://localhost:8080/"
        },
        "id": "GqQ3BMs2Ryey",
        "outputId": "3252bff1-c53e-4404-9b82-75d0466699e3"
      },
      "execution_count": 7,
      "outputs": [
        {
          "output_type": "stream",
          "name": "stdout",
          "text": [
            "+-----------------+\n",
            "|              _c0|\n",
            "+-----------------+\n",
            "|   Frances Bennet|\n",
            "|    Jamie Russell|\n",
            "|   Edward Kistler|\n",
            "|    Sheila Maurer|\n",
            "| Donald Golightly|\n",
            "|       David Gray|\n",
            "|      Joy Bennett|\n",
            "|      Paul Kriese|\n",
            "|Berniece Ornellas|\n",
            "|    Brian Farrell|\n",
            "+-----------------+\n",
            "only showing top 10 rows\n",
            "\n"
          ]
        }
      ]
    },
    {
      "cell_type": "code",
      "source": [
        "df_nomes.printSchema()"
      ],
      "metadata": {
        "colab": {
          "base_uri": "https://localhost:8080/"
        },
        "id": "sx_5JjjFSCwj",
        "outputId": "587e2c0e-d487-418e-ffe6-9051ed11b16e"
      },
      "execution_count": 8,
      "outputs": [
        {
          "output_type": "stream",
          "name": "stdout",
          "text": [
            "root\n",
            " |-- _c0: string (nullable = true)\n",
            "\n"
          ]
        }
      ]
    },
    {
      "cell_type": "code",
      "source": [
        "#Etapa 2\n",
        "df_nomes = df_nomes.withColumnRenamed(\"_c0\", \"Nomes\")\n",
        "df_nomes.printSchema()\n",
        "df_nomes.show(10)"
      ],
      "metadata": {
        "colab": {
          "base_uri": "https://localhost:8080/"
        },
        "id": "9kNdrzLfTYtY",
        "outputId": "9d74d3f9-61bd-4aa7-fe7b-5dcf662a829a"
      },
      "execution_count": 9,
      "outputs": [
        {
          "output_type": "stream",
          "name": "stdout",
          "text": [
            "root\n",
            " |-- Nomes: string (nullable = true)\n",
            "\n",
            "+-----------------+\n",
            "|            Nomes|\n",
            "+-----------------+\n",
            "|   Frances Bennet|\n",
            "|    Jamie Russell|\n",
            "|   Edward Kistler|\n",
            "|    Sheila Maurer|\n",
            "| Donald Golightly|\n",
            "|       David Gray|\n",
            "|      Joy Bennett|\n",
            "|      Paul Kriese|\n",
            "|Berniece Ornellas|\n",
            "|    Brian Farrell|\n",
            "+-----------------+\n",
            "only showing top 10 rows\n",
            "\n"
          ]
        }
      ]
    },
    {
      "cell_type": "code",
      "source": [
        "#Etapa 3\n",
        "from pyspark.sql.functions import when, rand\n",
        "\n",
        "df_nomes = df_nomes.withColumn(\n",
        "    \"Escolaridade\",\n",
        "    when((rand() < 0.33), \"Fundamental\")\n",
        "    .when((rand() >= 0.33) & (rand() < 0.66), \"Medio\")\n",
        "    .otherwise(\"Superior\")\n",
        ")\n",
        "\n",
        "df_nomes.show(10)"
      ],
      "metadata": {
        "colab": {
          "base_uri": "https://localhost:8080/"
        },
        "id": "jpvEgbPdT8zE",
        "outputId": "8901f908-f80c-4d84-d5a0-c35011c28e32"
      },
      "execution_count": 10,
      "outputs": [
        {
          "output_type": "stream",
          "name": "stdout",
          "text": [
            "+-----------------+------------+\n",
            "|            Nomes|Escolaridade|\n",
            "+-----------------+------------+\n",
            "|   Frances Bennet| Fundamental|\n",
            "|    Jamie Russell|       Medio|\n",
            "|   Edward Kistler| Fundamental|\n",
            "|    Sheila Maurer| Fundamental|\n",
            "| Donald Golightly|    Superior|\n",
            "|       David Gray|       Medio|\n",
            "|      Joy Bennett|    Superior|\n",
            "|      Paul Kriese| Fundamental|\n",
            "|Berniece Ornellas|    Superior|\n",
            "|    Brian Farrell|    Superior|\n",
            "+-----------------+------------+\n",
            "only showing top 10 rows\n",
            "\n"
          ]
        }
      ]
    },
    {
      "cell_type": "code",
      "source": [
        "# Etapa 4\n",
        "paises = [\"Argentina\", \"Bolívia\", \"Brasil\", \"Chile\", \"Colômbia\", \"Equador\", \"Guiana\",\n",
        "          \"Paraguai\", \"Peru\", \"Suriname\", \"Uruguai\", \"Venezuela\", \"Guiana Francesa\"]\n",
        "df_nomes = df_nomes.withColumn(\n",
        "    \"Pais\",\n",
        "    when(rand() < 1/13, paises[0])\n",
        "    .when((rand() >= 1/13) & (rand() < 2/13), paises[1])\n",
        "    .when((rand() >= 2/13) & (rand() < 3/13), paises[2])\n",
        "    .when((rand() >= 3/13) & (rand() < 4/13), paises[3])\n",
        "    .when((rand() >= 4/13) & (rand() < 5/13), paises[4])\n",
        "    .when((rand() >= 5/13) & (rand() < 6/13), paises[5])\n",
        "    .when((rand() >= 6/13) & (rand() < 7/13), paises[6])\n",
        "    .when((rand() >= 7/13) & (rand() < 8/13), paises[7])\n",
        "    .when((rand() >= 8/13) & (rand() < 9/13), paises[8])\n",
        "    .when((rand() >= 9/13) & (rand() < 10/13), paises[9])\n",
        "    .when((rand() >= 10/13) & (rand() < 11/13), paises[10])\n",
        "    .when((rand() >= 11/13) & (rand() < 12/13), paises[11])\n",
        "    .otherwise(paises[12])\n",
        ")\n",
        "\n",
        "df_nomes.show(10)"
      ],
      "metadata": {
        "colab": {
          "base_uri": "https://localhost:8080/"
        },
        "id": "UGl4DiMhV0M-",
        "outputId": "6a5aec95-3aac-4ab5-ab79-5b61315790e9"
      },
      "execution_count": 11,
      "outputs": [
        {
          "output_type": "stream",
          "name": "stdout",
          "text": [
            "+-----------------+------------+---------------+\n",
            "|            Nomes|Escolaridade|           Pais|\n",
            "+-----------------+------------+---------------+\n",
            "|   Frances Bennet| Fundamental|Guiana Francesa|\n",
            "|    Jamie Russell|       Medio|        Bolívia|\n",
            "|   Edward Kistler| Fundamental|        Bolívia|\n",
            "|    Sheila Maurer| Fundamental|      Argentina|\n",
            "| Donald Golightly|    Superior|        Equador|\n",
            "|       David Gray|       Medio|      Argentina|\n",
            "|      Joy Bennett|    Superior|        Bolívia|\n",
            "|      Paul Kriese| Fundamental|        Bolívia|\n",
            "|Berniece Ornellas|    Superior|       Colômbia|\n",
            "|    Brian Farrell|    Superior|          Chile|\n",
            "+-----------------+------------+---------------+\n",
            "only showing top 10 rows\n",
            "\n"
          ]
        }
      ]
    },
    {
      "cell_type": "code",
      "source": [
        "# Etapa 5\n",
        "from pyspark.sql.functions import col, floor\n",
        "\n",
        "df_nomes = df_nomes.withColumn(\n",
        "    \"AnoNascimento\",\n",
        "    (floor(rand() * (2010 - 1945 + 1)) + 1945).cast(\"int\")\n",
        ")\n",
        "\n",
        "df_nomes.show(10)"
      ],
      "metadata": {
        "colab": {
          "base_uri": "https://localhost:8080/"
        },
        "id": "sISBceYSXrEy",
        "outputId": "702cf9f1-8100-42ab-b41d-af8d4a7b7f2a"
      },
      "execution_count": 12,
      "outputs": [
        {
          "output_type": "stream",
          "name": "stdout",
          "text": [
            "+-----------------+------------+---------------+-------------+\n",
            "|            Nomes|Escolaridade|           Pais|AnoNascimento|\n",
            "+-----------------+------------+---------------+-------------+\n",
            "|   Frances Bennet| Fundamental|Guiana Francesa|         1954|\n",
            "|    Jamie Russell|       Medio|        Bolívia|         1971|\n",
            "|   Edward Kistler| Fundamental|        Bolívia|         1991|\n",
            "|    Sheila Maurer| Fundamental|      Argentina|         1974|\n",
            "| Donald Golightly|    Superior|        Equador|         1968|\n",
            "|       David Gray|       Medio|      Argentina|         1975|\n",
            "|      Joy Bennett|    Superior|        Bolívia|         1998|\n",
            "|      Paul Kriese| Fundamental|        Bolívia|         1947|\n",
            "|Berniece Ornellas|    Superior|       Colômbia|         2006|\n",
            "|    Brian Farrell|    Superior|          Chile|         1997|\n",
            "+-----------------+------------+---------------+-------------+\n",
            "only showing top 10 rows\n",
            "\n"
          ]
        }
      ]
    },
    {
      "cell_type": "code",
      "source": [
        "# Etapa 6\n",
        "df_select=df_nomes.filter((col(\"AnoNascimento\")>=2001))\n",
        "df_select.show(10)"
      ],
      "metadata": {
        "colab": {
          "base_uri": "https://localhost:8080/"
        },
        "id": "0MOQ2ibRZqMS",
        "outputId": "f32aee6b-80f4-47e6-caa2-39ec8373843b"
      },
      "execution_count": 13,
      "outputs": [
        {
          "output_type": "stream",
          "name": "stdout",
          "text": [
            "+--------------------+------------+---------+-------------+\n",
            "|               Nomes|Escolaridade|     Pais|AnoNascimento|\n",
            "+--------------------+------------+---------+-------------+\n",
            "|   Berniece Ornellas|    Superior| Colômbia|         2006|\n",
            "|      Kara Mcelwaine|       Medio|  Bolívia|         2009|\n",
            "|         Frank Wiley|       Medio|   Guiana|         2006|\n",
            "|     Kenneth Rayburn| Fundamental|   Guiana|         2006|\n",
            "|          Anita Ross|       Medio|   Brasil|         2002|\n",
            "|      Mary Dillahunt|       Medio|    Chile|         2003|\n",
            "|         Sandra Todd|    Superior|    Chile|         2007|\n",
            "|       Ricky Gilbert|       Medio|  Bolívia|         2007|\n",
            "|Christopher Williams|    Superior|    Chile|         2010|\n",
            "|     Charles Randall|    Superior|Argentina|         2001|\n",
            "+--------------------+------------+---------+-------------+\n",
            "only showing top 10 rows\n",
            "\n"
          ]
        }
      ]
    },
    {
      "cell_type": "code",
      "source": [
        "# Etapa 7\n",
        "df_nomes.createOrReplaceTempView(\"tabela_nomes\")\n",
        "df_seculo_atual_sql = spark.sql(\"\"\"\n",
        "    SELECT *\n",
        "    FROM tabela_nomes\n",
        "    WHERE AnoNascimento >= 2001\n",
        "\"\"\")\n",
        "df_seculo_atual_sql.show(10)"
      ],
      "metadata": {
        "colab": {
          "base_uri": "https://localhost:8080/"
        },
        "id": "Z8OVsEece8N4",
        "outputId": "891d5f04-cb51-4d00-be02-e3c9122147d4"
      },
      "execution_count": 14,
      "outputs": [
        {
          "output_type": "stream",
          "name": "stdout",
          "text": [
            "+--------------------+------------+---------+-------------+\n",
            "|               Nomes|Escolaridade|     Pais|AnoNascimento|\n",
            "+--------------------+------------+---------+-------------+\n",
            "|   Berniece Ornellas|    Superior| Colômbia|         2006|\n",
            "|      Kara Mcelwaine|       Medio|  Bolívia|         2009|\n",
            "|         Frank Wiley|       Medio|   Guiana|         2006|\n",
            "|     Kenneth Rayburn| Fundamental|   Guiana|         2006|\n",
            "|          Anita Ross|       Medio|   Brasil|         2002|\n",
            "|      Mary Dillahunt|       Medio|    Chile|         2003|\n",
            "|         Sandra Todd|    Superior|    Chile|         2007|\n",
            "|       Ricky Gilbert|       Medio|  Bolívia|         2007|\n",
            "|Christopher Williams|    Superior|    Chile|         2010|\n",
            "|     Charles Randall|    Superior|Argentina|         2001|\n",
            "+--------------------+------------+---------+-------------+\n",
            "only showing top 10 rows\n",
            "\n"
          ]
        }
      ]
    },
    {
      "cell_type": "code",
      "source": [
        "# Etapa 8\n",
        "df_millennials=df_nomes.filter((col(\"AnoNascimento\")>=1980) & (col(\"AnoNascimento\")<=1994))\n",
        "total=df_millennials.count()\n",
        "print(f\"Pessoas que são da geração millennials: {total}\")"
      ],
      "metadata": {
        "colab": {
          "base_uri": "https://localhost:8080/"
        },
        "id": "S_DAhIregHZS",
        "outputId": "3f0e861e-9045-4797-d7ac-f70d641b86c7"
      },
      "execution_count": 15,
      "outputs": [
        {
          "output_type": "stream",
          "name": "stdout",
          "text": [
            "Pessoas que são da geração millennials: 2275499\n"
          ]
        }
      ]
    },
    {
      "cell_type": "code",
      "source": [
        "# Etapa 9\n",
        "n_pessoas = spark.sql(\"\"\"\n",
        "    SELECT COUNT(*) AS total_pessoas\n",
        "    FROM tabela_nomes\n",
        "    WHERE AnoNascimento >= 1980 AND AnoNascimento <= 1994\n",
        "\"\"\")\n",
        "n_pessoas.show()"
      ],
      "metadata": {
        "colab": {
          "base_uri": "https://localhost:8080/"
        },
        "id": "Ry4_-CTXhpdl",
        "outputId": "fb9d9031-e755-4b20-d984-be165ad477d5"
      },
      "execution_count": 16,
      "outputs": [
        {
          "output_type": "stream",
          "name": "stdout",
          "text": [
            "+-------------+\n",
            "|total_pessoas|\n",
            "+-------------+\n",
            "|      2275499|\n",
            "+-------------+\n",
            "\n"
          ]
        }
      ]
    },
    {
      "cell_type": "code",
      "source": [
        "# Etapa 10\n",
        "resultado = spark.sql(\"\"\"\n",
        "    SELECT\n",
        "        Pais,\n",
        "        CASE\n",
        "            WHEN AnoNascimento BETWEEN 1944 AND 1964 THEN 'Baby Boomers'\n",
        "            WHEN AnoNascimento BETWEEN 1965 AND 1979 THEN 'Geração X'\n",
        "            WHEN AnoNascimento BETWEEN 1980 AND 1994 THEN 'Millennials'\n",
        "            WHEN AnoNascimento BETWEEN 1995 AND 2015 THEN 'Geração Z'\n",
        "            ELSE 'Outros'\n",
        "        END AS Geracao,\n",
        "        COUNT(*) AS Quantidade\n",
        "    FROM tabela_nomes\n",
        "    WHERE AnoNascimento BETWEEN 1944 AND 2015\n",
        "    GROUP BY Pais, Geracao\n",
        "    ORDER BY Pais ASC, Geracao ASC, Quantidade ASC\n",
        "\"\"\")\n",
        "\n",
        "resultado.show()"
      ],
      "metadata": {
        "colab": {
          "base_uri": "https://localhost:8080/"
        },
        "id": "fhc9yY8TiUwc",
        "outputId": "1d2a7988-3573-4201-a6ea-64cc38671a63"
      },
      "execution_count": 17,
      "outputs": [
        {
          "output_type": "stream",
          "name": "stdout",
          "text": [
            "+---------+------------+----------+\n",
            "|     Pais|     Geracao|Quantidade|\n",
            "+---------+------------+----------+\n",
            "|Argentina|Baby Boomers|    232803|\n",
            "|Argentina|   Geração X|    174083|\n",
            "|Argentina|   Geração Z|    185853|\n",
            "|Argentina| Millennials|    175101|\n",
            "|  Bolívia|Baby Boomers|    397076|\n",
            "|  Bolívia|   Geração X|    297252|\n",
            "|  Bolívia|   Geração Z|    317154|\n",
            "|  Bolívia| Millennials|    298633|\n",
            "|   Brasil|Baby Boomers|    468059|\n",
            "|   Brasil|   Geração X|    350948|\n",
            "|   Brasil|   Geração Z|    374620|\n",
            "|   Brasil| Millennials|    351516|\n",
            "|    Chile|Baby Boomers|    456528|\n",
            "|    Chile|   Geração X|    343018|\n",
            "|    Chile|   Geração Z|    365795|\n",
            "|    Chile| Millennials|    343547|\n",
            "| Colômbia|Baby Boomers|    393457|\n",
            "| Colômbia|   Geração X|    294159|\n",
            "| Colômbia|   Geração Z|    314784|\n",
            "| Colômbia| Millennials|    295226|\n",
            "+---------+------------+----------+\n",
            "only showing top 20 rows\n",
            "\n"
          ]
        }
      ]
    }
  ]
}